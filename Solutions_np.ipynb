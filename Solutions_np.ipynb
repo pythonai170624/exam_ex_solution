{
 "cells": [
  {
   "cell_type": "code",
   "execution_count": 1,
   "id": "d0287ab9-334e-4c7f-b6de-b137b072e8b7",
   "metadata": {},
   "outputs": [],
   "source": [
    "import pandas as pd\n",
    "import numpy as np\n",
    "import matplotlib.pyplot as plt\n",
    "import seaborn as sns\n",
    "from IPython.display import display"
   ]
  },
  {
   "cell_type": "code",
   "execution_count": 57,
   "id": "2e2bcfff-fd63-4527-94af-b3d0f3f38ce0",
   "metadata": {},
   "outputs": [
    {
     "data": {
      "text/plain": [
       "array([[46, 45, 59],\n",
       "       [85, 59, 76],\n",
       "       [66, 19, 22],\n",
       "       [13, 23, 73]])"
      ]
     },
     "metadata": {},
     "output_type": "display_data"
    },
    {
     "data": {
      "text/plain": [
       "'sum'"
      ]
     },
     "metadata": {},
     "output_type": "display_data"
    },
    {
     "data": {
      "text/plain": [
       "586"
      ]
     },
     "metadata": {},
     "output_type": "display_data"
    },
    {
     "data": {
      "text/plain": [
       "'sum row'"
      ]
     },
     "metadata": {},
     "output_type": "display_data"
    },
    {
     "data": {
      "text/plain": [
       "array([150, 220, 107, 109])"
      ]
     },
     "metadata": {},
     "output_type": "display_data"
    },
    {
     "data": {
      "text/plain": [
       "'sum col'"
      ]
     },
     "metadata": {},
     "output_type": "display_data"
    },
    {
     "data": {
      "text/plain": [
       "array([210, 146, 230])"
      ]
     },
     "metadata": {},
     "output_type": "display_data"
    }
   ],
   "source": [
    "# 1\n",
    "# Create a NumPy array of size 4x3 and filled with random numbers from 10 to\n",
    "# 98 (inclusive). Calculate the sum of all elements, \n",
    "# the sum of each row and\n",
    "# each column.\n",
    "\n",
    "arr = np.random.randint(10, 98 + 1, (4, 3))\n",
    "display(arr)\n",
    "display('sum', arr.sum())\n",
    "display('sum row', arr.sum(axis=1))\n",
    "display('sum col', arr.sum(axis=0))"
   ]
  },
  {
   "cell_type": "code",
   "execution_count": 64,
   "id": "9f715ce0-245f-47de-aaca-3d008c11a60a",
   "metadata": {},
   "outputs": [
    {
     "data": {
      "text/plain": [
       "array([[6, 6, 2, 0, 6, 5, 9, 5, 2, 4]])"
      ]
     },
     "metadata": {},
     "output_type": "display_data"
    },
    {
     "data": {
      "text/plain": [
       "array([6, 6, 2, 0, 6, 2, 4])"
      ]
     },
     "metadata": {},
     "output_type": "display_data"
    },
    {
     "data": {
      "text/plain": [
       "7"
      ]
     },
     "metadata": {},
     "output_type": "display_data"
    },
    {
     "data": {
      "text/plain": [
       "7"
      ]
     },
     "metadata": {},
     "output_type": "display_data"
    }
   ],
   "source": [
    "# 2\n",
    "# Create a NumPy array of size 10 filled with random numbers from 0 to 10.\n",
    "# Count how many of them are even numbers.\n",
    "arr = np.random.randint(0, 10 + 1, (1, 10))\n",
    "display(arr)\n",
    "display(arr[arr % 2 == 0])\n",
    "display(len(arr[arr % 2 == 0]))\n",
    "display(arr[arr % 2 == 0].size)"
   ]
  },
  {
   "cell_type": "code",
   "execution_count": 73,
   "id": "8285f974-cc44-462a-bf24-5eb703ab5d9f",
   "metadata": {},
   "outputs": [
    {
     "data": {
      "text/plain": [
       "array([ 0,  1,  2,  3,  4,  5,  6,  7,  8,  9, 10, 11, 12, 13, 14, 15, 16,\n",
       "       17, 18, 19, 20, 21, 22, 23, 24, 25, 26, 27, 28, 29, 30, 31, 32, 33,\n",
       "       34, 35, 36, 37, 38, 39, 40, 41, 42, 43, 44, 45, 46, 47, 48, 49, 50,\n",
       "       -1, -1, -1, -1, -1, -1, -1, -1, -1, -1, -1, -1, -1, -1, -1, -1, -1,\n",
       "       -1, -1, -1, -1, -1, -1, -1, -1, -1, -1, -1, -1, -1, -1, -1, -1, -1,\n",
       "       -1, -1, -1, -1, -1, -1, -1, -1, -1, -1, -1, -1, -1, -1, -1])"
      ]
     },
     "metadata": {},
     "output_type": "display_data"
    },
    {
     "data": {
      "text/plain": [
       "1226"
      ]
     },
     "metadata": {},
     "output_type": "display_data"
    },
    {
     "data": {
      "text/plain": [
       "12.26"
      ]
     },
     "metadata": {},
     "output_type": "display_data"
    }
   ],
   "source": [
    "# 3\n",
    "# Create a NumPy array of size 100, filled with a sequence of numbers from 0\n",
    "# to 99.\n",
    "# 2. Reshape this array into 10 rows and 10 columns.\n",
    "# 3. Replace all values in the array which are greater than 50 with -1.\n",
    "# 4. Calculate the sum of all elements in the array.\n",
    "# 5. Calculate the mean of all elements in the array\n",
    "\n",
    "arr = np.arange(0, 99 + 1)\n",
    "arr.reshape(10, 10)\n",
    "arr[arr > 50] = -1\n",
    "display(arr)\n",
    "display(arr.sum())\n",
    "display(arr.mean())"
   ]
  },
  {
   "cell_type": "code",
   "execution_count": 78,
   "id": "3be2a8c5-6b16-4a86-b772-b0a83802e8be",
   "metadata": {},
   "outputs": [
    {
     "data": {
      "text/plain": [
       "array([  0.        ,  11.11111111,  22.22222222,  33.33333333,\n",
       "        44.44444444,  55.55555556,  66.66666667,  77.77777778,\n",
       "        88.88888889, 100.        ])"
      ]
     },
     "metadata": {},
     "output_type": "display_data"
    },
    {
     "data": {
      "text/plain": [
       "array([  0.        ,  11.11111111,  55.55555556,  66.66666667,\n",
       "        77.77777778,  88.88888889, 100.        ])"
      ]
     },
     "metadata": {},
     "output_type": "display_data"
    },
    {
     "data": {
      "text/plain": [
       "array([[  0.        ],\n",
       "       [ 11.11111111],\n",
       "       [ 55.55555556],\n",
       "       [ 66.66666667],\n",
       "       [ 77.77777778],\n",
       "       [ 88.88888889],\n",
       "       [100.        ]])"
      ]
     },
     "metadata": {},
     "output_type": "display_data"
    }
   ],
   "source": [
    "# 4\n",
    "# 1. Create an array of 10 elements with numbers between 0 -100 with the same\n",
    "# space between each element.\n",
    "# 2. Generate a new array that has all values from the previous array that are\n",
    "# greater than 50 or lower than 20.\n",
    "# 3. Reshape the array to a matrix array possible, (for example if its possible to\n",
    "# reshape the array to 4X3 matrix generate it)\n",
    "\n",
    "arr = np.linspace(0, 100, 10)\n",
    "display(arr)\n",
    "arr = arr[(arr > 50) | (arr < 20)]\n",
    "display(arr)\n",
    "display(arr.reshape(7, 1))"
   ]
  }
 ],
 "metadata": {
  "kernelspec": {
   "display_name": "Python 3 (ipykernel)",
   "language": "python",
   "name": "python3"
  },
  "language_info": {
   "codemirror_mode": {
    "name": "ipython",
    "version": 3
   },
   "file_extension": ".py",
   "mimetype": "text/x-python",
   "name": "python",
   "nbconvert_exporter": "python",
   "pygments_lexer": "ipython3",
   "version": "3.11.7"
  }
 },
 "nbformat": 4,
 "nbformat_minor": 5
}
